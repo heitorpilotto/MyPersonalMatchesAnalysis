{
 "metadata": {
  "language_info": {
   "codemirror_mode": {
    "name": "ipython",
    "version": 3
   },
   "file_extension": ".py",
   "mimetype": "text/x-python",
   "name": "python",
   "nbconvert_exporter": "python",
   "pygments_lexer": "ipython3",
   "version": "3.8.3"
  },
  "orig_nbformat": 2,
  "kernelspec": {
   "name": "python38364bitbase553aab5e6e8e41bcb42b2216f2868b26",
   "display_name": "Python 3.8.3 64-bit ('base': conda)"
  },
  "metadata": {
   "interpreter": {
    "hash": "b44a424d0a65629f1959357046f4c021947660e727b42380931a64d25a621fde"
   }
  }
 },
 "nbformat": 4,
 "nbformat_minor": 2,
 "cells": [
  {
   "cell_type": "code",
   "execution_count": 15,
   "metadata": {},
   "outputs": [],
   "source": [
    "import pandas as pd\n",
    "import numpy as np\n",
    "import requests\n",
    "import json\n",
    "import time\n",
    "\n",
    "api_key = 'RGAPI-120a0c4f-daab-4bca-a742-a600ace56ffa'"
   ]
  },
  {
   "cell_type": "code",
   "execution_count": null,
   "metadata": {},
   "outputs": [],
   "source": [
    "def get_match_infos_from_id(matchId, api_key):\n",
    "    url = f'https://americas.api.riotgames.com/lol/match/v5/matches/BR1_{matchId}'\n",
    "    header = {'api_key':api_key}\n",
    "    r = requests.get(url, params=header)\n",
    "    return r.json()\n",
    "\n",
    "def get_id_from_url(matchUrl):\n",
    "    match_details = matchUrl.split('#match-details/')[1]\n",
    "    return match_details.split('/')[1]\n",
    "\n",
    "def get_match_infos_from_url(matchUrl, api_key):\n",
    "    matchId = get_id_from_url(matchUrl)\n",
    "    return get_match_infos_from_id(matchId, api_key)\n",
    "\n",
    "def get_list_of_ids_from_ulrs(list_of_urls):\n",
    "    list_of_ids = []\n",
    "    for url in list_of_urls:\n",
    "        list_of_ids.append(get_id_from_url(url))\n",
    "    return np.unique(list_of_ids)\n",
    "\n",
    "def get_multiple_infos_from_urls(list_of_urls, api_key):\n",
    "    list_of_infos = []\n",
    "    for index, url in enumerate(np.unique(list_of_urls)):\n",
    "        list_of_infos.append(get_match_infos_from_url(url, api_key))\n",
    "        if index % 19 == 0:\n",
    "            time.sleep(1)\n",
    "    return list_of_infos"
   ]
  },
  {
   "cell_type": "code",
   "execution_count": null,
   "metadata": {},
   "outputs": [],
   "source": [
    "\n",
    "specific_matchId     = '2249128349'\n",
    "specific_match_infos = get_match_infos_from_id(specific_matchId, api_key)\n",
    "\n",
    "specific_macthUrl     = 'https://matchhistory.br.leagueoflegends.com/pt/#match-details/BR1/2249153501/200298930?tab=overview'\n",
    "match_infos_Url      = get_match_infos_from_url(specific_macthUrl, api_key)\n",
    "\n",
    "list_of_urls = ['https://matchhistory.br.leagueoflegends.com/pt/#match-details/BR1/2249153501/200298930?tab=overview',\n",
    "                'https://matchhistory.br.leagueoflegends.com/pt/#match-details/BR1/2249153501/200298930?tab=overview',\n",
    "                'https://matchhistory.br.leagueoflegends.com/pt/#match-details/BR1/2249128349/200298930?tab=overview',\n",
    "                'https://matchhistory.br.leagueoflegends.com/pt/#match-details/BR1/2245262204/200298930?tab=overview']\n",
    "\n",
    "list_of_infos = get_multiple_infos_from_urls(list_of_urls, api_key)"
   ]
  },
  {
   "cell_type": "code",
   "execution_count": 45,
   "metadata": {},
   "outputs": [
    {
     "output_type": "execute_result",
     "data": {
      "text/plain": [
       "dict_keys(['metadata', 'info'])"
      ]
     },
     "metadata": {},
     "execution_count": 45
    }
   ],
   "source": [
    "list_of_infos[0].keys()"
   ]
  },
  {
   "cell_type": "code",
   "execution_count": 46,
   "metadata": {},
   "outputs": [
    {
     "output_type": "stream",
     "name": "stdout",
     "text": [
      "0\n1\n2\n"
     ]
    }
   ],
   "source": [
    "for index, url in enumerate(np.unique(list_of_urls)):\n",
    "    print(index)"
   ]
  },
  {
   "cell_type": "code",
   "execution_count": 47,
   "metadata": {},
   "outputs": [
    {
     "output_type": "execute_result",
     "data": {
      "text/plain": [
       "[{'bans': [{'championId': 25, 'pickTurn': 1},\n",
       "   {'championId': 222, 'pickTurn': 2},\n",
       "   {'championId': 164, 'pickTurn': 3},\n",
       "   {'championId': 238, 'pickTurn': 4},\n",
       "   {'championId': 120, 'pickTurn': 5}],\n",
       "  'objectives': {'baron': {'first': False, 'kills': 0},\n",
       "   'champion': {'first': False, 'kills': 17},\n",
       "   'dragon': {'first': True, 'kills': 1},\n",
       "   'inhibitor': {'first': False, 'kills': 0},\n",
       "   'riftHerald': {'first': False, 'kills': 0},\n",
       "   'tower': {'first': False, 'kills': 1}},\n",
       "  'teamId': 100,\n",
       "  'win': False},\n",
       " {'bans': [{'championId': 157, 'pickTurn': 6},\n",
       "   {'championId': 360, 'pickTurn': 7},\n",
       "   {'championId': 777, 'pickTurn': 8},\n",
       "   {'championId': 555, 'pickTurn': 9},\n",
       "   {'championId': 35, 'pickTurn': 10}],\n",
       "  'objectives': {'baron': {'first': True, 'kills': 1},\n",
       "   'champion': {'first': True, 'kills': 35},\n",
       "   'dragon': {'first': False, 'kills': 2},\n",
       "   'inhibitor': {'first': True, 'kills': 3},\n",
       "   'riftHerald': {'first': True, 'kills': 1},\n",
       "   'tower': {'first': True, 'kills': 11}},\n",
       "  'teamId': 200,\n",
       "  'win': True}]"
      ]
     },
     "metadata": {},
     "execution_count": 47
    }
   ],
   "source": [
    "list_of_infos[1]['info']['teams']"
   ]
  }
 ]
}