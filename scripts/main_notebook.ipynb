{
 "metadata": {
  "language_info": {
   "codemirror_mode": {
    "name": "ipython",
    "version": 3
   },
   "file_extension": ".py",
   "mimetype": "text/x-python",
   "name": "python",
   "nbconvert_exporter": "python",
   "pygments_lexer": "ipython3",
   "version": "3.8.3"
  },
  "orig_nbformat": 2,
  "kernelspec": {
   "name": "python383jvsc74a57bd0b44a424d0a65629f1959357046f4c021947660e727b42380931a64d25a621fde",
   "display_name": "Python 3.8.3 64-bit ('base': conda)"
  },
  "metadata": {
   "interpreter": {
    "hash": "b44a424d0a65629f1959357046f4c021947660e727b42380931a64d25a621fde"
   }
  }
 },
 "nbformat": 4,
 "nbformat_minor": 2,
 "cells": [
  {
   "cell_type": "code",
   "execution_count": 1,
   "metadata": {},
   "outputs": [],
   "source": [
    "import pandas as pd\n",
    "import numpy as np\n",
    "import requests\n",
    "import json\n",
    "import time\n",
    "\n",
    "api_key = 'RGAPI-6be3f8a6-6833-4e82-a374-00aba6f803fd'"
   ]
  },
  {
   "cell_type": "code",
   "execution_count": 2,
   "metadata": {},
   "outputs": [],
   "source": [
    "def get_match_infos_from_id(matchId, api_key):\n",
    "    url = f'https://americas.api.riotgames.com/lol/match/v5/matches/BR1_{matchId}'\n",
    "    header = {'api_key':api_key}\n",
    "    r = requests.get(url, params=header)\n",
    "    return r.json()\n",
    "\n",
    "def get_id_from_url(matchUrl):\n",
    "    match_details = matchUrl.split('#match-details/')[1]\n",
    "    return match_details.split('/')[1]\n",
    "\n",
    "def get_match_infos_from_url(matchUrl, api_key):\n",
    "    matchId = get_id_from_url(matchUrl)\n",
    "    return get_match_infos_from_id(matchId, api_key)\n",
    "\n",
    "def get_list_of_ids_from_ulrs(list_of_urls):\n",
    "    list_of_ids = []\n",
    "    for url in list_of_urls:\n",
    "        list_of_ids.append(get_id_from_url(url))\n",
    "    return np.unique(list_of_ids)\n",
    "\n",
    "def get_multiple_infos_from_urls(list_of_urls, api_key):\n",
    "    list_of_infos = []\n",
    "    for index, url in enumerate(np.unique(list_of_urls)):\n",
    "        list_of_infos.append(get_match_infos_from_url(url, api_key))\n",
    "        if index % 19 == 0:\n",
    "            time.sleep(1)\n",
    "    return list_of_infos\n",
    "\n",
    "def info_to_players_dataframe(match_infos):\n",
    "    players = pd.DataFrame(match_infos['info']['participants'])\n",
    "    players['gameId']             = match_infos['info']['gameId']\n",
    "    players['gameDuration']       = match_infos['info']['gameDuration']\n",
    "    players['gameStartTimestamp'] = match_infos['info']['gameStartTimestamp']\n",
    "\n",
    "    return players\n",
    "\n",
    "def csv_urls_to_participants_df(path_to_csv, api_key):\n",
    "    full_match_list = list(pd.read_csv(path_to_csv).match_url)\n",
    "\n",
    "    list_of_infos  = get_multiple_infos_from_urls(full_match_list, api_key)\n",
    "    matches_as_dfs = [info_to_players_dataframe(info) for info in list_of_infos]\n",
    "    full_matches   = pd.concat(matches_as_dfs)\n",
    "\n",
    "    return full_matches"
   ]
  },
  {
   "cell_type": "code",
   "execution_count": 54,
   "metadata": {},
   "outputs": [],
   "source": [
    "df_full = csv_urls_to_participants_df('../list_of_matches.csv', api_key)"
   ]
  },
  {
   "cell_type": "code",
   "execution_count": 56,
   "metadata": {},
   "outputs": [
    {
     "output_type": "stream",
     "name": "stdout",
     "text": [
      "assists\nbaronKills\nbountyLevel\nchampExperience\nchampLevel\nchampionId\nchampionName\nchampionTransform\nconsumablesPurchased\ndamageDealtToBuildings\ndamageDealtToObjectives\ndamageDealtToTurrets\ndamageSelfMitigated\ndeaths\ndetectorWardsPlaced\ndoubleKills\ndragonKills\nfirstBloodAssist\nfirstBloodKill\nfirstTowerAssist\nfirstTowerKill\ngameEndedInEarlySurrender\ngameEndedInSurrender\ngoldEarned\ngoldSpent\nindividualPosition\ninhibitorKills\ninhibitorsLost\nitem0\nitem1\nitem2\nitem3\nitem4\nitem5\nitem6\nitemsPurchased\nkillingSprees\nkills\nlane\nlargestCriticalStrike\nlargestKillingSpree\nlargestMultiKill\nlongestTimeSpentLiving\nmagicDamageDealt\nmagicDamageDealtToChampions\nmagicDamageTaken\nneutralMinionsKilled\nnexusKills\nnexusLost\nobjectivesStolen\nobjectivesStolenAssists\nparticipantId\npentaKills\nperks\nphysicalDamageDealt\nphysicalDamageDealtToChampions\nphysicalDamageTaken\nprofileIcon\npuuid\nquadraKills\nriotIdName\nriotIdTagline\nrole\nsightWardsBoughtInGame\nspell1Casts\nspell2Casts\nspell3Casts\nspell4Casts\nsummoner1Casts\nsummoner1Id\nsummoner2Casts\nsummoner2Id\nsummonerId\nsummonerLevel\nsummonerName\nteamEarlySurrendered\nteamId\nteamPosition\ntimeCCingOthers\ntimePlayed\ntotalDamageDealt\ntotalDamageDealtToChampions\ntotalDamageShieldedOnTeammates\ntotalDamageTaken\ntotalHeal\ntotalHealsOnTeammates\ntotalMinionsKilled\ntotalTimeCCDealt\ntotalTimeSpentDead\ntotalUnitsHealed\ntripleKills\ntrueDamageDealt\ntrueDamageDealtToChampions\ntrueDamageTaken\nturretKills\nturretsLost\nunrealKills\nvisionScore\nvisionWardsBoughtInGame\nwardsKilled\nwardsPlaced\nwin\ngameId\ngameDuration\ngameStartTimestamp\n"
     ]
    }
   ],
   "source": [
    "for col in df_full.columns:\n",
    "    print(col)"
   ]
  },
  {
   "cell_type": "code",
   "execution_count": 63,
   "metadata": {},
   "outputs": [
    {
     "output_type": "execute_result",
     "data": {
      "text/plain": [
       "                                               puuid   summonerName    win  \\\n",
       "0  q2vqZN9CCembJV_C2aIpaT8qSGmyW-H4cA92g7y4mWH4QO...           Ohto   True   \n",
       "1  Xl9wzyX9Hnw6v3lFKpSvISadkxJO2KyS4AOs8lxirULLTL...          Axium   True   \n",
       "2  ouK21DUGdQa1S-38CPYKPsZVQzd5o72Uk4gn_FWzK7Biku...    kindle eyes   True   \n",
       "3  dSrm4Xq9PEcPGX2mFJ5NfDe0l4IlttTLGvk42VBtS7bNkl...        Nabruxa   True   \n",
       "4  w42D9MWwWYgP6WBnePIVvA3odKnIYB-LvmjH2pvN6MKUln...      LadyKell    True   \n",
       "5  Vctog9y_7tyGkSVwiSrgeLmpIs5_5r_BEetZ8888mL3oRf...        Jpguima  False   \n",
       "6  U-l5FEkys6K6fVlYDHCLT7kzi3A2x015vjpGCC80Vi5SQ5...     EduTenorio  False   \n",
       "7  EceUuasZqIXn5mPpnnlQvyMd-oKtbl03Q0RdkERw3iCFf2...  coutos simiae  False   \n",
       "8  MaAGkvfuraI5CSUjbyLptqYi-Enw5Cp-rWRCtSKT8JTt8M...  BobaDeathFett  False   \n",
       "9  pPAANYjxgtvO8YPiSSjT6j9qHRbPfdE6ZNLfT6Ndyxk-pm...  vitors simiae  False   \n",
       "\n",
       "   detectorWardsPlaced  \n",
       "0                    4  \n",
       "1                    1  \n",
       "2                    4  \n",
       "3                    1  \n",
       "4                    2  \n",
       "5                    0  \n",
       "6                    1  \n",
       "7                    3  \n",
       "8                    4  \n",
       "9                    3  "
      ],
      "text/html": "<div>\n<style scoped>\n    .dataframe tbody tr th:only-of-type {\n        vertical-align: middle;\n    }\n\n    .dataframe tbody tr th {\n        vertical-align: top;\n    }\n\n    .dataframe thead th {\n        text-align: right;\n    }\n</style>\n<table border=\"1\" class=\"dataframe\">\n  <thead>\n    <tr style=\"text-align: right;\">\n      <th></th>\n      <th>puuid</th>\n      <th>summonerName</th>\n      <th>win</th>\n      <th>detectorWardsPlaced</th>\n    </tr>\n  </thead>\n  <tbody>\n    <tr>\n      <th>0</th>\n      <td>q2vqZN9CCembJV_C2aIpaT8qSGmyW-H4cA92g7y4mWH4QO...</td>\n      <td>Ohto</td>\n      <td>True</td>\n      <td>4</td>\n    </tr>\n    <tr>\n      <th>1</th>\n      <td>Xl9wzyX9Hnw6v3lFKpSvISadkxJO2KyS4AOs8lxirULLTL...</td>\n      <td>Axium</td>\n      <td>True</td>\n      <td>1</td>\n    </tr>\n    <tr>\n      <th>2</th>\n      <td>ouK21DUGdQa1S-38CPYKPsZVQzd5o72Uk4gn_FWzK7Biku...</td>\n      <td>kindle eyes</td>\n      <td>True</td>\n      <td>4</td>\n    </tr>\n    <tr>\n      <th>3</th>\n      <td>dSrm4Xq9PEcPGX2mFJ5NfDe0l4IlttTLGvk42VBtS7bNkl...</td>\n      <td>Nabruxa</td>\n      <td>True</td>\n      <td>1</td>\n    </tr>\n    <tr>\n      <th>4</th>\n      <td>w42D9MWwWYgP6WBnePIVvA3odKnIYB-LvmjH2pvN6MKUln...</td>\n      <td>LadyKell</td>\n      <td>True</td>\n      <td>2</td>\n    </tr>\n    <tr>\n      <th>5</th>\n      <td>Vctog9y_7tyGkSVwiSrgeLmpIs5_5r_BEetZ8888mL3oRf...</td>\n      <td>Jpguima</td>\n      <td>False</td>\n      <td>0</td>\n    </tr>\n    <tr>\n      <th>6</th>\n      <td>U-l5FEkys6K6fVlYDHCLT7kzi3A2x015vjpGCC80Vi5SQ5...</td>\n      <td>EduTenorio</td>\n      <td>False</td>\n      <td>1</td>\n    </tr>\n    <tr>\n      <th>7</th>\n      <td>EceUuasZqIXn5mPpnnlQvyMd-oKtbl03Q0RdkERw3iCFf2...</td>\n      <td>coutos simiae</td>\n      <td>False</td>\n      <td>3</td>\n    </tr>\n    <tr>\n      <th>8</th>\n      <td>MaAGkvfuraI5CSUjbyLptqYi-Enw5Cp-rWRCtSKT8JTt8M...</td>\n      <td>BobaDeathFett</td>\n      <td>False</td>\n      <td>4</td>\n    </tr>\n    <tr>\n      <th>9</th>\n      <td>pPAANYjxgtvO8YPiSSjT6j9qHRbPfdE6ZNLfT6Ndyxk-pm...</td>\n      <td>vitors simiae</td>\n      <td>False</td>\n      <td>3</td>\n    </tr>\n  </tbody>\n</table>\n</div>"
     },
     "metadata": {},
     "execution_count": 63
    }
   ],
   "source": [
    "cols_analise = ['puuid', 'summonerName','win','detectorWardsPlaced']\n",
    "df_full.loc[:, cols_analise]"
   ]
  }
 ]
}