{
 "metadata": {
  "language_info": {
   "codemirror_mode": {
    "name": "ipython",
    "version": 3
   },
   "file_extension": ".py",
   "mimetype": "text/x-python",
   "name": "python",
   "nbconvert_exporter": "python",
   "pygments_lexer": "ipython3",
   "version": "3.8.3"
  },
  "orig_nbformat": 2,
  "kernelspec": {
   "name": "python38364bitbase553aab5e6e8e41bcb42b2216f2868b26",
   "display_name": "Python 3.8.3 64-bit ('base': conda)"
  },
  "metadata": {
   "interpreter": {
    "hash": "b44a424d0a65629f1959357046f4c021947660e727b42380931a64d25a621fde"
   }
  }
 },
 "nbformat": 4,
 "nbformat_minor": 2,
 "cells": [
  {
   "cell_type": "code",
   "execution_count": 49,
   "metadata": {},
   "outputs": [],
   "source": [
    "import pandas as pd\n",
    "import numpy as np\n",
    "import requests\n",
    "import json\n",
    "import time\n",
    "\n",
    "api_key = 'RGAPI-120a0c4f-daab-4bca-a742-a600ace56ffa'"
   ]
  },
  {
   "cell_type": "code",
   "execution_count": 50,
   "metadata": {},
   "outputs": [],
   "source": [
    "def get_match_infos_from_id(matchId, api_key):\n",
    "    url = f'https://americas.api.riotgames.com/lol/match/v5/matches/BR1_{matchId}'\n",
    "    header = {'api_key':api_key}\n",
    "    r = requests.get(url, params=header)\n",
    "    return r.json()\n",
    "\n",
    "def get_id_from_url(matchUrl):\n",
    "    match_details = matchUrl.split('#match-details/')[1]\n",
    "    return match_details.split('/')[1]\n",
    "\n",
    "def get_match_infos_from_url(matchUrl, api_key):\n",
    "    matchId = get_id_from_url(matchUrl)\n",
    "    return get_match_infos_from_id(matchId, api_key)\n",
    "\n",
    "def get_list_of_ids_from_ulrs(list_of_urls):\n",
    "    list_of_ids = []\n",
    "    for url in list_of_urls:\n",
    "        list_of_ids.append(get_id_from_url(url))\n",
    "    return np.unique(list_of_ids)\n",
    "\n",
    "def get_multiple_infos_from_urls(list_of_urls, api_key):\n",
    "    list_of_infos = []\n",
    "    for index, url in enumerate(np.unique(list_of_urls)):\n",
    "        list_of_infos.append(get_match_infos_from_url(url, api_key))\n",
    "        if index % 19 == 0:\n",
    "            time.sleep(1)\n",
    "    return list_of_infos"
   ]
  },
  {
   "cell_type": "code",
   "execution_count": 134,
   "metadata": {},
   "outputs": [],
   "source": [
    "\n",
    "specific_matchId     = '2249128349'\n",
    "specific_match_infos = get_match_infos_from_id(specific_matchId, api_key)\n",
    "\n",
    "specific_macthUrl     = 'https://matchhistory.br.leagueoflegends.com/pt/#match-details/BR1/2249153501/200298930?tab=overview'\n",
    "match_infos_Url      = get_match_infos_from_url(specific_macthUrl, api_key)\n",
    "\n",
    "list_of_urls = [\n",
    "    'https://matchhistory.br.leagueoflegends.com/pt/#match-details/BR1/2236441575/200298930?tab=overview',\n",
    "    'https://matchhistory.br.leagueoflegends.com/pt/#match-details/BR1/2236441944/200298930?tab=overview',\n",
    "    'https://matchhistory.br.leagueoflegends.com/pt/#match-details/BR1/2249153501/200298930?tab=overview',\n",
    "    'https://matchhistory.br.leagueoflegends.com/pt/#match-details/BR1/2249153501/200298930?tab=overview',\n",
    "    'https://matchhistory.br.leagueoflegends.com/pt/#match-details/BR1/2249128349/200298930?tab=overview',\n",
    "    'https://matchhistory.br.leagueoflegends.com/pt/#match-details/BR1/2245262204/200298930?tab=overview'\n",
    "    ]\n",
    "\n",
    "list_of_infos = get_multiple_infos_from_urls(list_of_urls, api_key)"
   ]
  },
  {
   "cell_type": "code",
   "execution_count": 141,
   "metadata": {},
   "outputs": [
    {
     "output_type": "execute_result",
     "data": {
      "text/plain": [
       "{'status': {'message': 'Data not found - match file not found',\n",
       "  'status_code': 404}}"
      ]
     },
     "metadata": {},
     "execution_count": 141
    }
   ],
   "source": [
    "list_of_infos[1]"
   ]
  },
  {
   "cell_type": "code",
   "execution_count": 142,
   "metadata": {},
   "outputs": [
    {
     "output_type": "execute_result",
     "data": {
      "text/plain": [
       "'2236441575'"
      ]
     },
     "metadata": {},
     "execution_count": 142
    }
   ],
   "source": [
    "get_id_from_url('https://matchhistory.br.leagueoflegends.com/pt/#match-details/BR1/2236441575/200298930?tab=overview')"
   ]
  },
  {
   "cell_type": "code",
   "execution_count": 144,
   "metadata": {},
   "outputs": [
    {
     "output_type": "execute_result",
     "data": {
      "text/plain": [
       "{'status': {'message': 'Data not found - match file not found',\n",
       "  'status_code': 404}}"
      ]
     },
     "metadata": {},
     "execution_count": 144
    }
   ],
   "source": [
    "get_match_infos_from_id('2236441575', api_key)"
   ]
  },
  {
   "cell_type": "code",
   "execution_count": 93,
   "metadata": {},
   "outputs": [
    {
     "output_type": "execute_result",
     "data": {
      "text/plain": [
       "                                               puuid championName  assists\n",
       "0  KHh6YCufvwNw9lvf4CUJgIh5geYYUmfGU-9x5HmajdVC-W...     Renekton        3\n",
       "1  AlQSorxdyrS3tikba4tVuuJB39yexeGaCr7NJaxDnill3q...           Vi        3\n",
       "2  Ui6aTQmpMKD053Zwb-RjJq4RaPKzyvUhBmFGyWu-mrJeNO...     Kassadin        3\n",
       "3  w9yDDyIM39HxH-NTUp8rOSwdVaMd5YnGFDmoD4DPsnn_Qo...      Caitlyn        7\n",
       "4  CwmjpQqJZ24HKLXVBWDoU0PVj8sOHdDeaNG_X8cPIypGjA...      Morgana       11\n",
       "5  eA_5huR8D0_0CJmMUsUvFqCnoxZeJ3bQQfUZKTNHKNQekR...       Singed       15\n",
       "6  bWt0RgcQs35IAt0LVTr9CEGvdes_Fyb8ETdmMuGaDgaqVm...         Olaf        8\n",
       "7  2XL5NJqu3uV3Tp8FBFe5t3pBB3d8bR0xcbJ_PoaW-CQ7id...          Lux       11\n",
       "8  pbw4bTAZfT85-XjtJ4K4S7mlQuJjVY5nVFoKNSriB_xpAz...         Jinx        8\n",
       "9  nk4q-g5viAzmKyktV8m5mtNU03ZxucJzSL1m1zIbkxHeX6...       Zilean       13"
      ],
      "text/html": "<div>\n<style scoped>\n    .dataframe tbody tr th:only-of-type {\n        vertical-align: middle;\n    }\n\n    .dataframe tbody tr th {\n        vertical-align: top;\n    }\n\n    .dataframe thead th {\n        text-align: right;\n    }\n</style>\n<table border=\"1\" class=\"dataframe\">\n  <thead>\n    <tr style=\"text-align: right;\">\n      <th></th>\n      <th>puuid</th>\n      <th>championName</th>\n      <th>assists</th>\n    </tr>\n  </thead>\n  <tbody>\n    <tr>\n      <th>0</th>\n      <td>KHh6YCufvwNw9lvf4CUJgIh5geYYUmfGU-9x5HmajdVC-W...</td>\n      <td>Renekton</td>\n      <td>3</td>\n    </tr>\n    <tr>\n      <th>1</th>\n      <td>AlQSorxdyrS3tikba4tVuuJB39yexeGaCr7NJaxDnill3q...</td>\n      <td>Vi</td>\n      <td>3</td>\n    </tr>\n    <tr>\n      <th>2</th>\n      <td>Ui6aTQmpMKD053Zwb-RjJq4RaPKzyvUhBmFGyWu-mrJeNO...</td>\n      <td>Kassadin</td>\n      <td>3</td>\n    </tr>\n    <tr>\n      <th>3</th>\n      <td>w9yDDyIM39HxH-NTUp8rOSwdVaMd5YnGFDmoD4DPsnn_Qo...</td>\n      <td>Caitlyn</td>\n      <td>7</td>\n    </tr>\n    <tr>\n      <th>4</th>\n      <td>CwmjpQqJZ24HKLXVBWDoU0PVj8sOHdDeaNG_X8cPIypGjA...</td>\n      <td>Morgana</td>\n      <td>11</td>\n    </tr>\n    <tr>\n      <th>5</th>\n      <td>eA_5huR8D0_0CJmMUsUvFqCnoxZeJ3bQQfUZKTNHKNQekR...</td>\n      <td>Singed</td>\n      <td>15</td>\n    </tr>\n    <tr>\n      <th>6</th>\n      <td>bWt0RgcQs35IAt0LVTr9CEGvdes_Fyb8ETdmMuGaDgaqVm...</td>\n      <td>Olaf</td>\n      <td>8</td>\n    </tr>\n    <tr>\n      <th>7</th>\n      <td>2XL5NJqu3uV3Tp8FBFe5t3pBB3d8bR0xcbJ_PoaW-CQ7id...</td>\n      <td>Lux</td>\n      <td>11</td>\n    </tr>\n    <tr>\n      <th>8</th>\n      <td>pbw4bTAZfT85-XjtJ4K4S7mlQuJjVY5nVFoKNSriB_xpAz...</td>\n      <td>Jinx</td>\n      <td>8</td>\n    </tr>\n    <tr>\n      <th>9</th>\n      <td>nk4q-g5viAzmKyktV8m5mtNU03ZxucJzSL1m1zIbkxHeX6...</td>\n      <td>Zilean</td>\n      <td>13</td>\n    </tr>\n  </tbody>\n</table>\n</div>"
     },
     "metadata": {},
     "execution_count": 93
    }
   ],
   "source": [
    "pd.DataFrame(data=list_of_infos[2]['info']['participants']).loc[:, ['puuid','championName','assists']]"
   ]
  },
  {
   "cell_type": "code",
   "execution_count": 146,
   "metadata": {},
   "outputs": [],
   "source": [
    "def info_to_players_dataframe(match_infos):\n",
    "    players = pd.DataFrame(match_infos['info']['participants'])\n",
    "    players['gameId']             = match_infos['info']['gameId']\n",
    "    players['gameDuration']       = match_infos['info']['gameDuration']\n",
    "    players['gameStartTimestamp'] = match_infos['info']['gameStartTimestamp']\n",
    "\n",
    "    return players"
   ]
  },
  {
   "cell_type": "code",
   "execution_count": 147,
   "metadata": {},
   "outputs": [],
   "source": [
    "df = info_to_players_dataframe(specific_match_infos)\n",
    "df"
   ]
  },
  {
   "cell_type": "code",
   "execution_count": 102,
   "metadata": {},
   "outputs": [
    {
     "output_type": "stream",
     "name": "stdout",
     "text": [
      "assists\nbaronKills\nbountyLevel\nchampExperience\nchampLevel\nchampionId\nchampionName\nchampionTransform\nconsumablesPurchased\ndamageDealtToBuildings\ndamageDealtToObjectives\ndamageDealtToTurrets\ndamageSelfMitigated\ndeaths\ndetectorWardsPlaced\ndoubleKills\ndragonKills\nfirstBloodAssist\nfirstBloodKill\nfirstTowerAssist\nfirstTowerKill\ngameEndedInEarlySurrender\ngameEndedInSurrender\ngoldEarned\ngoldSpent\nindividualPosition\ninhibitorKills\ninhibitorsLost\nitem0\nitem1\nitem2\nitem3\nitem4\nitem5\nitem6\nitemsPurchased\nkillingSprees\nkills\nlane\nlargestCriticalStrike\nlargestKillingSpree\nlargestMultiKill\nlongestTimeSpentLiving\nmagicDamageDealt\nmagicDamageDealtToChampions\nmagicDamageTaken\nneutralMinionsKilled\nnexusKills\nnexusLost\nobjectivesStolen\nobjectivesStolenAssists\nparticipantId\npentaKills\nperks\nphysicalDamageDealt\nphysicalDamageDealtToChampions\nphysicalDamageTaken\nprofileIcon\npuuid\nquadraKills\nriotIdName\nriotIdTagline\nrole\nsightWardsBoughtInGame\nspell1Casts\nspell2Casts\nspell3Casts\nspell4Casts\nsummoner1Casts\nsummoner1Id\nsummoner2Casts\nsummoner2Id\nsummonerId\nsummonerLevel\nsummonerName\nteamEarlySurrendered\nteamId\nteamPosition\ntimeCCingOthers\ntimePlayed\ntotalDamageDealt\ntotalDamageDealtToChampions\ntotalDamageShieldedOnTeammates\ntotalDamageTaken\ntotalHeal\ntotalHealsOnTeammates\ntotalMinionsKilled\ntotalTimeCCDealt\ntotalTimeSpentDead\ntotalUnitsHealed\ntripleKills\ntrueDamageDealt\ntrueDamageDealtToChampions\ntrueDamageTaken\nturretKills\nturretsLost\nunrealKills\nvisionScore\nvisionWardsBoughtInGame\nwardsKilled\nwardsPlaced\nwin\n"
     ]
    }
   ],
   "source": [
    "for column in a.columns:\n",
    "    print(column)"
   ]
  }
 ]
}